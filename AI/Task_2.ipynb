{
  "nbformat": 4,
  "nbformat_minor": 0,
  "metadata": {
    "colab": {
      "provenance": []
    },
    "kernelspec": {
      "name": "python3",
      "display_name": "Python 3"
    },
    "language_info": {
      "name": "python"
    }
  },
  "cells": [
    {
      "cell_type": "code",
      "execution_count": 1,
      "metadata": {
        "colab": {
          "base_uri": "https://localhost:8080/"
        },
        "id": "K6EUonLHrygK",
        "outputId": "4890404c-9fd8-43f3-e29c-f7189ef1b7a5"
      },
      "outputs": [
        {
          "output_type": "stream",
          "name": "stdout",
          "text": [
            "    Height  Weight  Age  Avg_Grade  Courses\n",
            "0      170      65   19         85        5\n",
            "1      180      75   20         90        6\n",
            "2      160      55   18         80        4\n",
            "3      175      70   21         88        7\n",
            "4      155      50   19         82        5\n",
            "5      165      62   22         89        6\n",
            "6      178      80   23         91        7\n",
            "7      162      58   20         78        3\n",
            "8      172      68   19         86        5\n",
            "9      169      66   20         84        4\n",
            "10     171      64   22         87        6\n",
            "11     177      72   21         90        9\n",
            "12     174      76   24         88        8\n",
            "13     158      52   18         75        3\n",
            "14     164      63   19         81        4\n",
            "           Height     Weight        Age  Avg_Grade    Courses\n",
            "count   15.000000  15.000000  15.000000  15.000000  15.000000\n",
            "mean   168.666667  65.066667  20.333333  84.933333   5.466667\n",
            "std      7.687343   8.811248   1.799471   4.817626   1.767430\n",
            "min    155.000000  50.000000  18.000000  75.000000   3.000000\n",
            "25%    163.000000  60.000000  19.000000  81.500000   4.000000\n",
            "50%    170.000000  65.000000  20.000000  86.000000   5.000000\n",
            "75%    174.500000  71.000000  21.500000  88.500000   6.500000\n",
            "max    180.000000  80.000000  24.000000  91.000000   9.000000\n",
            "Age\n",
            "19    4\n",
            "20    3\n",
            "18    2\n",
            "21    2\n",
            "22    2\n",
            "23    1\n",
            "24    1\n",
            "Name: count, dtype: int64\n",
            "    Height  Weight  Age  Avg_Grade  Courses\n",
            "3      175      70   21         88        7\n",
            "5      165      62   22         89        6\n",
            "6      178      80   23         91        7\n",
            "10     171      64   22         87        6\n",
            "11     177      72   21         90        9\n",
            "12     174      76   24         88        8\n",
            "Age\n",
            "18    77.5\n",
            "19    83.5\n",
            "20    84.0\n",
            "21    89.0\n",
            "22    88.0\n",
            "23    91.0\n",
            "24    88.0\n",
            "Name: Avg_Grade, dtype: float64\n"
          ]
        }
      ],
      "source": [
        "import pandas as pd\n",
        "data = [\n",
        "    [170, 65, 19, 85, 5],\n",
        "    [180, 75, 20, 90, 6],\n",
        "    [160, 55, 18, 80, 4],\n",
        "    [175, 70, 21, 88, 7],\n",
        "    [155, 50, 19, 82, 5],\n",
        "    [165, 62, 22, 89, 6],\n",
        "    [178, 80, 23, 91, 7],\n",
        "    [162, 58, 20, 78, 3],\n",
        "    [172, 68, 19, 86, 5],\n",
        "    [169, 66, 20, 84, 4],\n",
        "    [171, 64, 22, 87, 6],\n",
        "    [177, 72, 21, 90, 9],\n",
        "    [174, 76, 24, 88, 8],\n",
        "    [158, 52, 18, 75, 3],\n",
        "    [164, 63, 19, 81, 4]\n",
        "]\n",
        "# column names being ‘Height’, ‘Weight’, ‘Age’, ‘Avg_Grade’ and ‘Courses’ in that order.\n",
        "\n",
        "#Question 2.1 : Create a Pandas DataFrame\n",
        "columns = ['Height', 'Weight','Age', 'Avg_Grade','Courses']\n",
        "df = pd.DataFrame(data, columns=columns)\n",
        "print(df)\n",
        "\n",
        "#Question 2.2 : Describe the DataFrame\n",
        "print(df.describe())\n",
        "\n",
        "#Question 2.3 : Count the Number of Students in Each Age Group\n",
        "print(df['Age'].value_counts())\n",
        "\n",
        "#Question 2.4 : Filter the DataFrame\n",
        "print(df[(df['Age']>20) & (df['Avg_Grade']>85)])\n",
        "\n",
        "#Question 2.5 : Calculate the Average Grade for Each Age Group\n",
        "print(df.groupby('Age')['Avg_Grade'].mean())"
      ]
    }
  ]
}