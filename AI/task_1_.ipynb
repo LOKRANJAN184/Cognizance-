{
  "nbformat": 4,
  "nbformat_minor": 0,
  "metadata": {
    "colab": {
      "provenance": []
    },
    "kernelspec": {
      "name": "python3",
      "display_name": "Python 3"
    },
    "language_info": {
      "name": "python"
    }
  },
  "cells": [
    {
      "cell_type": "code",
      "execution_count": 1,
      "metadata": {
        "colab": {
          "base_uri": "https://localhost:8080/"
        },
        "id": "vOteDb3nqcgM",
        "outputId": "e46e4223-587d-41f5-88e2-b9eb1eeef836"
      },
      "outputs": [
        {
          "output_type": "stream",
          "name": "stdout",
          "text": [
            "Student\tHeight\tWeight\tAge\tAvg Grade\tCourses\n",
            "Student 1\t170\t65\t19\t85\t\t5\n",
            "Student 2\t180\t75\t20\t90\t\t6\n",
            "Student 3\t160\t55\t18\t80\t\t4\n",
            "Student 4\t175\t70\t21\t88\t\t7\n",
            "Student 5\t155\t50\t19\t82\t\t5\n",
            "Student 6\t165\t62\t22\t89\t\t6\n",
            "Student 7\t178\t80\t23\t91\t\t7\n",
            "Student 8\t162\t58\t20\t78\t\t3\n",
            "Student 9\t172\t68\t19\t86\t\t5\n",
            "Student 10\t169\t66\t20\t84\t\t4\n",
            "Student 11\t171\t64\t22\t87\t\t6\n",
            "Student 12\t177\t72\t21\t90\t\t9\n",
            "Student 13\t174\t76\t24\t88\t\t8\n",
            "Student 14\t158\t52\t18\t75\t\t3\n",
            "Student 15\t164\t63\t19\t81\t\t4\n",
            "168.66666666666666\n",
            "24\n",
            "11\n",
            "8\n",
            "[0.22352941 0.22222222 0.225      0.23863636 0.23170732 0.24719101\n",
            " 0.25274725 0.25641026 0.22093023 0.23809524 0.25287356 0.23333333\n",
            " 0.27272727 0.24       0.2345679 ]\n"
          ]
        }
      ],
      "source": [
        "\n",
        "\n",
        "import numpy as np\n",
        "# Creating a dataset with 15 students and 5 attributes\n",
        "data = np.array([\n",
        "    [170, 65, 19, 85, 5],\n",
        "    [180, 75, 20, 90, 6],\n",
        "    [160, 55, 18, 80, 4],\n",
        "    [175, 70, 21, 88, 7],\n",
        "    [155, 50, 19, 82, 5],\n",
        "    [165, 62, 22, 89, 6],\n",
        "    [178, 80, 23, 91, 7],\n",
        "    [162, 58, 20, 78, 3],\n",
        "    [172, 68, 19, 86, 5],\n",
        "    [169, 66, 20, 84, 4],\n",
        "    [171, 64, 22, 87, 6],\n",
        "    [177, 72, 21, 90, 9],\n",
        "    [174, 76, 24, 88, 8],\n",
        "    [158, 52, 18, 75, 3],\n",
        "    [164, 63, 19, 81, 4]\n",
        "])\n",
        "\n",
        "# Printing the dataset with student labels\n",
        "print(\"Student\\tHeight\\tWeight\\tAge\\tAvg Grade\\tCourses\")\n",
        "for index, student in enumerate(data):\n",
        "    print(f\"Student {index + 1}\\t{student[0]}\\t{student[1]}\\t{student[2]}\\t{student[3]}\\t\\t{student[4]}\")\n",
        "\n",
        "# Question 1.1 : Find the Average Height of the Students\n",
        "avg_hgt = np.mean(data[:,0])\n",
        "print(avg_hgt)\n",
        "\n",
        "#Question 1.2 : Find the Age of the Oldest Student\n",
        "max_age = np.max(data[:,2])\n",
        "print(max_age)\n",
        "\n",
        "#Question 1.3 : Find the Index of the Student Who Took the Most Courses.\n",
        "max_courses = np.argmax(data[:,4])\n",
        "print(max_courses)\n",
        "\n",
        "#Question 1.4 : Find the Number of Students with an Average Grade Above 85\n",
        "a = np.sum(data[:,3]>85)\n",
        "print(a)\n",
        "\n",
        "#Question 1.5 : Calculate the Ratio of a Student’s Age to Their Average Grade for Each Student\n",
        "b = np.divide(data[:,2], data[:,3])\n",
        "print(b)"
      ]
    }
  ]
}